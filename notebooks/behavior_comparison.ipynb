{
 "cells": [
  {
   "cell_type": "code",
   "execution_count": 1,
   "id": "indie-charles",
   "metadata": {},
   "outputs": [
    {
     "name": "stdout",
     "output_type": "stream",
     "text": [
      "D:\\ryanh\\github\\cell_assembly_replay\n"
     ]
    }
   ],
   "source": [
    "%cd .."
   ]
  },
  {
   "cell_type": "code",
   "execution_count": 29,
   "id": "isolated-rebate",
   "metadata": {},
   "outputs": [],
   "source": [
    "import pandas as pd\n",
    "from cell_assembly_replay import functions\n",
    "import os\n",
    "import numpy as np\n",
    "import matplotlib.pyplot as plt"
   ]
  },
  {
   "cell_type": "code",
   "execution_count": 58,
   "id": "successful-indonesia",
   "metadata": {},
   "outputs": [],
   "source": [
    "data_path = r'F:\\Projects\\PAE_PlaceCell\\ProcessedData'\n",
    "analysis_path = r'F:\\Projects\\PAE_PlaceCell\\analysis\\behavior'\n",
    "# df = pd.read_csv(r'F:\\Projects\\PAE_PlaceCell\\analysis\\session_df.csv')\n",
    "df_swr = pd.read_csv('F:/Projects/PAE_PlaceCell/analysis/swr_data/post_processed/swr_df.csv')"
   ]
  },
  {
   "cell_type": "markdown",
   "id": "expensive-climb",
   "metadata": {},
   "source": [
    "## only keep HPC"
   ]
  },
  {
   "cell_type": "code",
   "execution_count": 60,
   "id": "italic-manner",
   "metadata": {},
   "outputs": [],
   "source": [
    "df_swr = df_swr[(df_swr.area == 'ca1') | (df_swr.area == 'ca3')]"
   ]
  },
  {
   "cell_type": "markdown",
   "id": "according-adult",
   "metadata": {},
   "source": [
    "## only keep unique combo of session and area"
   ]
  },
  {
   "cell_type": "code",
   "execution_count": 61,
   "id": "powerful-volleyball",
   "metadata": {},
   "outputs": [],
   "source": [
    "df_swr = df_swr.drop_duplicates(subset = [\"session\",\"area\"])\n",
    "# df_swr[df_swr.rat == 'LEM3124']"
   ]
  },
  {
   "cell_type": "code",
   "execution_count": 63,
   "id": "aggressive-dallas",
   "metadata": {},
   "outputs": [],
   "source": [
    "possible_ripple_time = []\n",
    "possible_ripple_epochs = []\n",
    "\n",
    "speed_threshold = 4 #cm/sec\n",
    "fs = 30\n",
    "    \n",
    "for session in df_swr.session:\n",
    "    df_pos = functions.load_position(os.path.join(data_path,session)+'.mat')\n",
    "    \n",
    "    # pull out speed\n",
    "    speed = df_pos.speed\n",
    "    # nans are 0cm/sec to account for non-tracked pedestal epochs\n",
    "    speed[np.isnan(speed)] = 0\n",
    "    # total amount of time (sec) in which a ripple may have occured\n",
    "    possible_ripple_time.append(np.sum(speed <= speed_threshold)/fs)\n",
    "    # number of instances in which a ripple could have occured\n",
    "    # Here this value is simply represented by the sum of the index \n",
    "    # as the min ripple epoch allowable was 15ms and the min ripple duration \n",
    "    # in the data set was around 23ms. That said, a single ripple could possible occur\n",
    "    # within each valid frame under the speed threshold.\n",
    "    possible_ripple_epochs.append(np.sum(speed <= speed_threshold))\n"
   ]
  },
  {
   "cell_type": "code",
   "execution_count": 65,
   "id": "utility-reference",
   "metadata": {},
   "outputs": [],
   "source": [
    "df_swr['possible_ripple_time'] = possible_ripple_time\n",
    "df_swr['possible_ripple_epochs'] = possible_ripple_epochs"
   ]
  },
  {
   "cell_type": "code",
   "execution_count": 67,
   "id": "studied-village",
   "metadata": {},
   "outputs": [],
   "source": [
    "df_swr.to_csv(os.path.join(analysis_path,'df.csv'))\n"
   ]
  },
  {
   "cell_type": "code",
   "execution_count": 70,
   "id": "beautiful-simulation",
   "metadata": {},
   "outputs": [
    {
     "data": {
      "text/plain": [
       "0        1511.466667\n",
       "11       1793.400000\n",
       "51        405.900000\n",
       "58       1925.466667\n",
       "89       3484.700000\n",
       "            ...     \n",
       "18152     447.233333\n",
       "18155     396.466667\n",
       "18157     428.466667\n",
       "18160     328.566667\n",
       "18161     597.900000\n",
       "Name: possible_ripple_time, Length: 80, dtype: float64"
      ]
     },
     "execution_count": 70,
     "metadata": {},
     "output_type": "execute_result"
    }
   ],
   "source": [
    "df_swr[df_swr.group == 'control'].possible_ripple_time"
   ]
  },
  {
   "cell_type": "code",
   "execution_count": 74,
   "id": "desirable-finnish",
   "metadata": {},
   "outputs": [
    {
     "data": {
      "image/png": "[encoded data removed]",
      "text/plain": [
       "<Figure size 432x288 with 1 Axes>"
      ]
     },
     "metadata": {
      "needs_background": "light"
     },
     "output_type": "display_data"
    }
   ],
   "source": [
    "plt.figure()\n",
    "plt.hist(df_swr[df_swr.group == 'control'].possible_ripple_time,50)\n",
    "plt.hist(df_swr[df_swr.group == 'pae'].possible_ripple_time,50,alpha=.5)\n",
    "\n",
    "plt.show()\n"
   ]
  }
 ],
 "metadata": {
  "kernelspec": {
   "display_name": "Python 3",
   "language": "python",
   "name": "python3"
  },
  "language_info": {
   "codemirror_mode": {
    "name": "ipython",
    "version": 3
   },
   "file_extension": ".py",
   "mimetype": "text/x-python",
   "name": "python",
   "nbconvert_exporter": "python",
   "pygments_lexer": "ipython3",
   "version": "3.9.1"
  }
 },
 "nbformat": 4,
 "nbformat_minor": 5
}
